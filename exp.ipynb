{
 "cells": [
  {
   "cell_type": "code",
   "execution_count": 67,
   "metadata": {},
   "outputs": [],
   "source": [
    "from pathlib import Path\n",
    "import janome\n",
    "from janome.tokenizer import Tokenizer\n",
    "import torchtext\n",
    "import torch\n",
    "import spacy\n",
    "from torchtext.legacy import data\n",
    "from torchtext.legacy import datasets\n",
    "from torchtext.vocab import GloVe, FastText\n",
    "\n",
    "tokenizer_ja = Tokenizer()"
   ]
  },
  {
   "cell_type": "code",
   "execution_count": 68,
   "metadata": {},
   "outputs": [
    {
     "name": "stdout",
     "output_type": "stream",
     "text": [
      "['私', 'は', '人間', 'です', '。']\n"
     ]
    }
   ],
   "source": [
    "def tokenize_ja(text):\n",
    "    return list(tokenizer_ja.tokenize(text, wakati=True))\n",
    "\n",
    "print(tokenize_ja(\"私は人間です。\"))\n"
   ]
  },
  {
   "cell_type": "code",
   "execution_count": 69,
   "metadata": {},
   "outputs": [
    {
     "name": "stdout",
     "output_type": "stream",
     "text": [
      "['I', 'am', 'a', 'human', '.']\n"
     ]
    }
   ],
   "source": [
    "def tokenize_en(text):\n",
    "    text = text.replace(\".\", \" .\")\n",
    "    \n",
    "    return text.split()\n",
    "\n",
    "print(tokenize_en(\"I   am a human.\"))"
   ]
  },
  {
   "cell_type": "code",
   "execution_count": 70,
   "metadata": {},
   "outputs": [],
   "source": [
    "TEXT_EN = data.Field(sequential=True, tokenize=tokenize_en, lower=True)\n",
    "TEXT_JA = data.Field(sequential=True, tokenize=tokenize_ja, lower=True)"
   ]
  },
  {
   "cell_type": "code",
   "execution_count": 71,
   "metadata": {},
   "outputs": [],
   "source": [
    "def make_parallel_dataset(data_en_path, data_ja_path, output_path):\n",
    "    # すでにトークナイズされているがもとに戻す\n",
    "    results = []\n",
    "    with open(data_en_path, \"r\") as f_en, open(data_ja_path, \"r\") as f_ja:\n",
    "        for line_en, line_ja in zip(f_en, f_ja):\n",
    "            line_en = line_en.strip().replace(\" .\", \".\").replace(\" '\", \"'\").replace(\" ,\", \",\")\n",
    "            line_ja = line_ja.strip().replace(\" \", \"\")\n",
    "            line = \"\\t\".join((line_en, line_ja))\n",
    "            results.append(line)\n",
    "\n",
    "    with open(output_path, \"w\") as f:\n",
    "        for line in results:\n",
    "            f.write(f\"{line}\\n\")\n"
   ]
  },
  {
   "cell_type": "code",
   "execution_count": 72,
   "metadata": {},
   "outputs": [],
   "source": [
    "# make_parallel_dataset(\"./dev.en\", \"./dev.ja\", \"./dev.tsv\")\n",
    "# make_parallel_dataset(\"./test.en\", \"./test.ja\", \"./test.tsv\")"
   ]
  },
  {
   "cell_type": "code",
   "execution_count": 73,
   "metadata": {},
   "outputs": [
    {
     "name": "stdout",
     "output_type": "stream",
     "text": [
      "len(train) 500\n",
      "vars(train[0]) {'text_en': ['show', 'your', 'own', 'business', '.'], 'text_ja': ['自分', 'の', '事', 'を', 'しろ', '。']}\n"
     ]
    }
   ],
   "source": [
    "train, test = data.TabularDataset.splits(\n",
    "    path=\"./\",\n",
    "    train=\"dev.tsv\",\n",
    "    test=\"test.tsv\",\n",
    "    format=\"tsv\",\n",
    "    fields=[(\"text_en\", TEXT_EN), (\"text_ja\", TEXT_JA)],\n",
    ")\n",
    "print('len(train)', len(train))\n",
    "print('vars(train[0])', vars(train[0]))\n"
   ]
  },
  {
   "cell_type": "code",
   "execution_count": 74,
   "metadata": {},
   "outputs": [
    {
     "name": "stdout",
     "output_type": "stream",
     "text": [
      "[('show', 2), ('your', 26), ('own', 3), ('business', 6), ('.', 437), ('he', 87), ('lived', 3), ('a', 83), ('hard', 2), ('life', 4)]\n",
      "[('自分', 5), ('の', 155), ('事', 5), ('を', 156), ('しろ', 1), ('。', 495), ('彼', 108), ('は', 361), ('つらい', 1), ('人生', 3)]\n",
      "[('<unk>', 0), ('<pad>', 1), ('.', 2), ('the', 3), ('to', 4), ('i', 5), ('he', 6), ('a', 7), ('you', 8), ('is', 9)]\n",
      "[('<unk>', 0), ('<pad>', 1), ('。', 2), ('は', 3), ('に', 4), ('た', 5), ('を', 6), ('の', 7), ('て', 8), ('が', 9)]\n"
     ]
    }
   ],
   "source": [
    "TEXT_EN.build_vocab(train, min_freq=1)\n",
    "TEXT_JA.build_vocab(train, min_freq=1)\n",
    "\n",
    "print(list(TEXT_EN.vocab.freqs.items())[:10])\n",
    "print(list(TEXT_JA.vocab.freqs.items())[:10])\n",
    "print(list(TEXT_EN.vocab.stoi.items())[:10])\n",
    "print(list(TEXT_JA.vocab.stoi.items())[:10])\n"
   ]
  },
  {
   "cell_type": "code",
   "execution_count": 75,
   "metadata": {},
   "outputs": [],
   "source": [
    "# 単語ベクトルデータがキャッシュにない場合はダウンロードする。英語6.6GB, 日本語1.4GBあるので時間がかかる\n",
    "TEXT_EN.build_vocab(train, vectors=FastText(language=\"en\"), min_freq=1)\n",
    "TEXT_JA.build_vocab(train, vectors=FastText(language=\"ja\"), min_freq=1)\n"
   ]
  },
  {
   "cell_type": "code",
   "execution_count": 81,
   "metadata": {},
   "outputs": [
    {
     "name": "stdout",
     "output_type": "stream",
     "text": [
      "torch.Size([9, 2])\n",
      "torch.Size([10, 2])\n"
     ]
    }
   ],
   "source": [
    "train_iter, test_iter = data.Iterator.splits((train, test), batch_sizes=(2, 2), shuffle=True, device=\"cpu\")\n",
    "batch = next(iter(train_iter))\n",
    "print(batch.text_en.shape)\n",
    "print(batch.text_ja.shape)\n"
   ]
  }
 ],
 "metadata": {
  "interpreter": {
   "hash": "f98b70d548b370f908ae182aafb4bbae42e40a0d654c77763a138ce7060b373f"
  },
  "kernelspec": {
   "display_name": "Python 3.9.6 64-bit ('transformer-pytorch-X2u6QD7W': pipenv)",
   "language": "python",
   "name": "python3"
  },
  "language_info": {
   "codemirror_mode": {
    "name": "ipython",
    "version": 3
   },
   "file_extension": ".py",
   "mimetype": "text/x-python",
   "name": "python",
   "nbconvert_exporter": "python",
   "pygments_lexer": "ipython3",
   "version": "3.9.6"
  },
  "orig_nbformat": 4
 },
 "nbformat": 4,
 "nbformat_minor": 2
}
