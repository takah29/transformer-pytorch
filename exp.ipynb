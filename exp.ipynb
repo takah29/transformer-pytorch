{
 "cells": [
  {
   "cell_type": "code",
   "execution_count": 1,
   "metadata": {},
   "outputs": [
    {
     "name": "stderr",
     "output_type": "stream",
     "text": [
      "/home/taka/.local/share/virtualenvs/transformer-pytorch-X2u6QD7W/lib/python3.9/site-packages/tqdm/auto.py:22: TqdmWarning: IProgress not found. Please update jupyter and ipywidgets. See https://ipywidgets.readthedocs.io/en/stable/user_install.html\n",
      "  from .autonotebook import tqdm as notebook_tqdm\n"
     ]
    },
    {
     "ename": "ImportError",
     "evalue": "cannot import name 'get_terminal_size' from 'click.termui' (/home/taka/.local/share/virtualenvs/transformer-pytorch-X2u6QD7W/lib/python3.9/site-packages/click/termui.py)",
     "output_type": "error",
     "traceback": [
      "\u001b[0;31m---------------------------------------------------------------------------\u001b[0m",
      "\u001b[0;31mImportError\u001b[0m                               Traceback (most recent call last)",
      "Input \u001b[0;32mIn [1]\u001b[0m, in \u001b[0;36m<cell line: 8>\u001b[0;34m()\u001b[0m\n\u001b[1;32m      6\u001b[0m \u001b[38;5;28;01mfrom\u001b[39;00m \u001b[38;5;21;01mtorch\u001b[39;00m \u001b[38;5;28;01mimport\u001b[39;00m nn\n\u001b[1;32m      7\u001b[0m \u001b[38;5;28;01mfrom\u001b[39;00m \u001b[38;5;21;01mtorch\u001b[39;00m\u001b[38;5;21;01m.\u001b[39;00m\u001b[38;5;21;01mnn\u001b[39;00m \u001b[38;5;28;01mimport\u001b[39;00m functional \u001b[38;5;28;01mas\u001b[39;00m F\n\u001b[0;32m----> 8\u001b[0m \u001b[38;5;28;01mimport\u001b[39;00m \u001b[38;5;21;01mspacy\u001b[39;00m\n\u001b[1;32m      9\u001b[0m \u001b[38;5;28;01mfrom\u001b[39;00m \u001b[38;5;21;01mtorchtext\u001b[39;00m\u001b[38;5;21;01m.\u001b[39;00m\u001b[38;5;21;01mlegacy\u001b[39;00m \u001b[38;5;28;01mimport\u001b[39;00m data\n\u001b[1;32m     10\u001b[0m \u001b[38;5;28;01mfrom\u001b[39;00m \u001b[38;5;21;01mtorchtext\u001b[39;00m\u001b[38;5;21;01m.\u001b[39;00m\u001b[38;5;21;01mlegacy\u001b[39;00m \u001b[38;5;28;01mimport\u001b[39;00m datasets\n",
      "File \u001b[0;32m~/.local/share/virtualenvs/transformer-pytorch-X2u6QD7W/lib/python3.9/site-packages/spacy/__init__.py:15\u001b[0m, in \u001b[0;36m<module>\u001b[0;34m\u001b[0m\n\u001b[1;32m     12\u001b[0m \u001b[38;5;28;01mfrom\u001b[39;00m \u001b[38;5;21;01mthinc\u001b[39;00m\u001b[38;5;21;01m.\u001b[39;00m\u001b[38;5;21;01mapi\u001b[39;00m \u001b[38;5;28;01mimport\u001b[39;00m Config\n\u001b[1;32m     14\u001b[0m \u001b[38;5;28;01mfrom\u001b[39;00m \u001b[38;5;21;01m.\u001b[39;00m \u001b[38;5;28;01mimport\u001b[39;00m pipeline  \u001b[38;5;66;03m# noqa: F401\u001b[39;00m\n\u001b[0;32m---> 15\u001b[0m \u001b[38;5;28;01mfrom\u001b[39;00m \u001b[38;5;21;01m.\u001b[39;00m\u001b[38;5;21;01mcli\u001b[39;00m\u001b[38;5;21;01m.\u001b[39;00m\u001b[38;5;21;01minfo\u001b[39;00m \u001b[38;5;28;01mimport\u001b[39;00m info  \u001b[38;5;66;03m# noqa: F401\u001b[39;00m\n\u001b[1;32m     16\u001b[0m \u001b[38;5;28;01mfrom\u001b[39;00m \u001b[38;5;21;01m.\u001b[39;00m\u001b[38;5;21;01mglossary\u001b[39;00m \u001b[38;5;28;01mimport\u001b[39;00m explain  \u001b[38;5;66;03m# noqa: F401\u001b[39;00m\n\u001b[1;32m     17\u001b[0m \u001b[38;5;28;01mfrom\u001b[39;00m \u001b[38;5;21;01m.\u001b[39;00m\u001b[38;5;21;01mabout\u001b[39;00m \u001b[38;5;28;01mimport\u001b[39;00m __version__  \u001b[38;5;66;03m# noqa: F401\u001b[39;00m\n",
      "File \u001b[0;32m~/.local/share/virtualenvs/transformer-pytorch-X2u6QD7W/lib/python3.9/site-packages/spacy/cli/__init__.py:3\u001b[0m, in \u001b[0;36m<module>\u001b[0;34m\u001b[0m\n\u001b[1;32m      1\u001b[0m \u001b[38;5;28;01mfrom\u001b[39;00m \u001b[38;5;21;01mwasabi\u001b[39;00m \u001b[38;5;28;01mimport\u001b[39;00m msg\n\u001b[0;32m----> 3\u001b[0m \u001b[38;5;28;01mfrom\u001b[39;00m \u001b[38;5;21;01m.\u001b[39;00m\u001b[38;5;21;01m_util\u001b[39;00m \u001b[38;5;28;01mimport\u001b[39;00m app, setup_cli  \u001b[38;5;66;03m# noqa: F401\u001b[39;00m\n\u001b[1;32m      5\u001b[0m \u001b[38;5;66;03m# These are the actual functions, NOT the wrapped CLI commands. The CLI commands\u001b[39;00m\n\u001b[1;32m      6\u001b[0m \u001b[38;5;66;03m# are registered automatically and won't have to be imported here.\u001b[39;00m\n\u001b[1;32m      7\u001b[0m \u001b[38;5;28;01mfrom\u001b[39;00m \u001b[38;5;21;01m.\u001b[39;00m\u001b[38;5;21;01mdownload\u001b[39;00m \u001b[38;5;28;01mimport\u001b[39;00m download  \u001b[38;5;66;03m# noqa: F401\u001b[39;00m\n",
      "File \u001b[0;32m~/.local/share/virtualenvs/transformer-pytorch-X2u6QD7W/lib/python3.9/site-packages/spacy/cli/_util.py:9\u001b[0m, in \u001b[0;36m<module>\u001b[0;34m\u001b[0m\n\u001b[1;32m      7\u001b[0m \u001b[38;5;28;01mimport\u001b[39;00m \u001b[38;5;21;01msrsly\u001b[39;00m\n\u001b[1;32m      8\u001b[0m \u001b[38;5;28;01mimport\u001b[39;00m \u001b[38;5;21;01mhashlib\u001b[39;00m\n\u001b[0;32m----> 9\u001b[0m \u001b[38;5;28;01mimport\u001b[39;00m \u001b[38;5;21;01mtyper\u001b[39;00m\n\u001b[1;32m     10\u001b[0m \u001b[38;5;28;01mfrom\u001b[39;00m \u001b[38;5;21;01mclick\u001b[39;00m \u001b[38;5;28;01mimport\u001b[39;00m NoSuchOption\n\u001b[1;32m     11\u001b[0m \u001b[38;5;28;01mfrom\u001b[39;00m \u001b[38;5;21;01mclick\u001b[39;00m\u001b[38;5;21;01m.\u001b[39;00m\u001b[38;5;21;01mparser\u001b[39;00m \u001b[38;5;28;01mimport\u001b[39;00m split_arg_string\n",
      "File \u001b[0;32m~/.local/share/virtualenvs/transformer-pytorch-X2u6QD7W/lib/python3.9/site-packages/typer/__init__.py:12\u001b[0m, in \u001b[0;36m<module>\u001b[0;34m\u001b[0m\n\u001b[1;32m     10\u001b[0m \u001b[38;5;28;01mfrom\u001b[39;00m \u001b[38;5;21;01mclick\u001b[39;00m\u001b[38;5;21;01m.\u001b[39;00m\u001b[38;5;21;01mtermui\u001b[39;00m \u001b[38;5;28;01mimport\u001b[39;00m echo_via_pager \u001b[38;5;28;01mas\u001b[39;00m echo_via_pager\n\u001b[1;32m     11\u001b[0m \u001b[38;5;28;01mfrom\u001b[39;00m \u001b[38;5;21;01mclick\u001b[39;00m\u001b[38;5;21;01m.\u001b[39;00m\u001b[38;5;21;01mtermui\u001b[39;00m \u001b[38;5;28;01mimport\u001b[39;00m edit \u001b[38;5;28;01mas\u001b[39;00m edit\n\u001b[0;32m---> 12\u001b[0m \u001b[38;5;28;01mfrom\u001b[39;00m \u001b[38;5;21;01mclick\u001b[39;00m\u001b[38;5;21;01m.\u001b[39;00m\u001b[38;5;21;01mtermui\u001b[39;00m \u001b[38;5;28;01mimport\u001b[39;00m get_terminal_size \u001b[38;5;28;01mas\u001b[39;00m get_terminal_size\n\u001b[1;32m     13\u001b[0m \u001b[38;5;28;01mfrom\u001b[39;00m \u001b[38;5;21;01mclick\u001b[39;00m\u001b[38;5;21;01m.\u001b[39;00m\u001b[38;5;21;01mtermui\u001b[39;00m \u001b[38;5;28;01mimport\u001b[39;00m getchar \u001b[38;5;28;01mas\u001b[39;00m getchar\n\u001b[1;32m     14\u001b[0m \u001b[38;5;28;01mfrom\u001b[39;00m \u001b[38;5;21;01mclick\u001b[39;00m\u001b[38;5;21;01m.\u001b[39;00m\u001b[38;5;21;01mtermui\u001b[39;00m \u001b[38;5;28;01mimport\u001b[39;00m launch \u001b[38;5;28;01mas\u001b[39;00m launch\n",
      "\u001b[0;31mImportError\u001b[0m: cannot import name 'get_terminal_size' from 'click.termui' (/home/taka/.local/share/virtualenvs/transformer-pytorch-X2u6QD7W/lib/python3.9/site-packages/click/termui.py)"
     ]
    }
   ],
   "source": [
    "from pathlib import Path\n",
    "import janome\n",
    "from janome.tokenizer import Tokenizer\n",
    "import torchtext\n",
    "import torch\n",
    "from torch import nn\n",
    "from torch.nn import functional as F\n",
    "import spacy\n",
    "from torchtext.legacy import data\n",
    "from torchtext.legacy import datasets\n",
    "from torchtext.vocab import GloVe, FastText\n",
    "\n",
    "tokenizer_ja = Tokenizer()"
   ]
  },
  {
   "cell_type": "code",
   "execution_count": null,
   "metadata": {},
   "outputs": [
    {
     "name": "stdout",
     "output_type": "stream",
     "text": [
      "['私', 'は', '人間', 'です', '。']\n"
     ]
    }
   ],
   "source": [
    "def tokenize_ja(text):\n",
    "    return list(tokenizer_ja.tokenize(text, wakati=True))\n",
    "\n",
    "print(tokenize_ja(\"私は人間です。\"))\n"
   ]
  },
  {
   "cell_type": "code",
   "execution_count": null,
   "metadata": {},
   "outputs": [
    {
     "name": "stdout",
     "output_type": "stream",
     "text": [
      "['I', 'am', 'a', 'human', '.']\n"
     ]
    }
   ],
   "source": [
    "def tokenize_en(text):\n",
    "    text = text.replace(\".\", \" .\")\n",
    "    \n",
    "    return text.split()\n",
    "\n",
    "print(tokenize_en(\"I   am a human.\"))"
   ]
  },
  {
   "cell_type": "code",
   "execution_count": null,
   "metadata": {},
   "outputs": [],
   "source": [
    "TEXT_EN = data.Field(sequential=True, tokenize=tokenize_en, lower=True)\n",
    "TEXT_JA = data.Field(sequential=True, tokenize=tokenize_ja, lower=True)"
   ]
  },
  {
   "cell_type": "code",
   "execution_count": null,
   "metadata": {},
   "outputs": [],
   "source": [
    "def make_parallel_dataset(data_en_path, data_ja_path, output_path):\n",
    "    # すでにトークナイズされているがもとに戻す\n",
    "    results = []\n",
    "    with open(data_en_path, \"r\") as f_en, open(data_ja_path, \"r\") as f_ja:\n",
    "        for line_en, line_ja in zip(f_en, f_ja):\n",
    "            line_en = line_en.strip().replace(\" .\", \".\").replace(\" '\", \"'\").replace(\" ,\", \",\")\n",
    "            line_ja = line_ja.strip().replace(\" \", \"\")\n",
    "            line = \"\\t\".join((line_en, line_ja))\n",
    "            results.append(line)\n",
    "\n",
    "    with open(output_path, \"w\") as f:\n",
    "        for line in results:\n",
    "            f.write(f\"{line}\\n\")\n"
   ]
  },
  {
   "cell_type": "code",
   "execution_count": null,
   "metadata": {},
   "outputs": [],
   "source": [
    "# make_parallel_dataset(\"./dev.en\", \"./dev.ja\", \"./dev.tsv\")\n",
    "# make_parallel_dataset(\"./test.en\", \"./test.ja\", \"./test.tsv\")"
   ]
  },
  {
   "cell_type": "code",
   "execution_count": null,
   "metadata": {},
   "outputs": [
    {
     "name": "stdout",
     "output_type": "stream",
     "text": [
      "len(train) 500\n",
      "vars(train[0]) {'text_en': ['show', 'your', 'own', 'business', '.'], 'text_ja': ['自分', 'の', '事', 'を', 'しろ', '。']}\n"
     ]
    }
   ],
   "source": [
    "train, test = data.TabularDataset.splits(\n",
    "    path=\"./\",\n",
    "    train=\"dev.tsv\",\n",
    "    test=\"test.tsv\",\n",
    "    format=\"tsv\",\n",
    "    fields=[(\"text_en\", TEXT_EN), (\"text_ja\", TEXT_JA)],\n",
    ")\n",
    "print('len(train)', len(train))\n",
    "print('vars(train[0])', vars(train[0]))\n"
   ]
  },
  {
   "cell_type": "code",
   "execution_count": null,
   "metadata": {},
   "outputs": [
    {
     "name": "stdout",
     "output_type": "stream",
     "text": [
      "[('show', 2), ('your', 26), ('own', 3), ('business', 6), ('.', 437), ('he', 87), ('lived', 3), ('a', 83), ('hard', 2), ('life', 4)]\n",
      "[('自分', 5), ('の', 155), ('事', 5), ('を', 156), ('しろ', 1), ('。', 495), ('彼', 108), ('は', 361), ('つらい', 1), ('人生', 3)]\n",
      "[('<unk>', 0), ('<pad>', 1), ('.', 2), ('the', 3), ('to', 4), ('i', 5), ('he', 6), ('a', 7), ('you', 8), ('is', 9)]\n",
      "[('<unk>', 0), ('<pad>', 1), ('。', 2), ('は', 3), ('に', 4), ('た', 5), ('を', 6), ('の', 7), ('て', 8), ('が', 9)]\n"
     ]
    }
   ],
   "source": [
    "TEXT_EN.build_vocab(train, min_freq=1)\n",
    "TEXT_JA.build_vocab(train, min_freq=1)\n",
    "\n",
    "print(list(TEXT_EN.vocab.freqs.items())[:10])\n",
    "print(list(TEXT_JA.vocab.freqs.items())[:10])\n",
    "print(list(TEXT_EN.vocab.stoi.items())[:10])\n",
    "print(list(TEXT_JA.vocab.stoi.items())[:10])\n"
   ]
  },
  {
   "cell_type": "code",
   "execution_count": null,
   "metadata": {},
   "outputs": [],
   "source": [
    "# 単語ベクトルデータがキャッシュにない場合はダウンロードする。英語6.6GB, 日本語1.4GBあるので時間がかかる\n",
    "TEXT_EN.build_vocab(train, vectors=FastText(language=\"en\"), min_freq=1)\n",
    "TEXT_JA.build_vocab(train, vectors=FastText(language=\"ja\"), min_freq=1)\n"
   ]
  },
  {
   "cell_type": "code",
   "execution_count": null,
   "metadata": {},
   "outputs": [
    {
     "name": "stdout",
     "output_type": "stream",
     "text": [
      "torch.Size([7, 2])\n",
      "torch.Size([8, 2])\n"
     ]
    }
   ],
   "source": [
    "train_iter, test_iter = data.Iterator.splits((train, test), batch_sizes=(2, 2), shuffle=True, device=\"cpu\")\n",
    "batch = next(iter(train_iter))\n",
    "print(batch.text_en.shape)\n",
    "print(batch.text_ja.shape)\n"
   ]
  },
  {
   "cell_type": "code",
   "execution_count": null,
   "metadata": {},
   "outputs": [],
   "source": [
    "class Attention(nn.Module):\n",
    "    def __init__(self, n_features, out_features):\n",
    "        super().__init__()\n",
    "        self.q_linear = nn.Linear(n_features, out_features)\n",
    "        self.k_linear = nn.Linear(n_features, out_features)\n",
    "        self.v_linear = nn.Linear(n_features, out_features)\n",
    "        self.out_linear = nn.Linear(out_features, n_features)\n",
    "\n",
    "    def forward(self, x):\n",
    "        q = self.q_linear(x)\n",
    "        k = self.k_linear(x)\n",
    "        v = self.v_linear(x)\n",
    "        y = torch.matmul(F.softmax(torch.matmul(q, k.transpose(1, 2)), dim=2), v)\n",
    "        y = self.out_linear(y)\n",
    "\n",
    "        return y\n"
   ]
  },
  {
   "cell_type": "code",
   "execution_count": null,
   "metadata": {},
   "outputs": [
    {
     "name": "stdout",
     "output_type": "stream",
     "text": [
      "tensor([[1.0000, 1.0000, 1.0000, 1.0000, 1.0000, 1.0000, 1.0000, 1.0000, 1.0000,\n",
      "         1.0000, 1.0000, 1.0000, 1.0000, 1.0000, 1.0000, 1.0000, 1.0000, 1.0000,\n",
      "         1.0000, 1.0000, 1.0000, 1.0000, 1.0000, 1.0000, 1.0000, 1.0000, 1.0000,\n",
      "         1.0000, 1.0000, 1.0000, 1.0000, 1.0000, 1.0000, 1.0000, 1.0000, 1.0000,\n",
      "         1.0000, 1.0000, 1.0000, 1.0000, 1.0000, 1.0000, 1.0000, 1.0000, 1.0000,\n",
      "         1.0000, 1.0000, 1.0000, 1.0000, 1.0000, 1.0000, 1.0000, 1.0000, 1.0000,\n",
      "         1.0000, 1.0000, 1.0000, 1.0000, 1.0000, 1.0000, 1.0000, 1.0000, 1.0000,\n",
      "         1.0000, 1.0000, 1.0000, 1.0000, 1.0000, 1.0000, 1.0000, 1.0000, 1.0000,\n",
      "         1.0000, 1.0000, 1.0000, 1.0000, 1.0000, 1.0000, 1.0000, 1.0000, 1.0000,\n",
      "         1.0000, 1.0000, 1.0000, 1.0000, 1.0000, 1.0000, 1.0000, 1.0000, 1.0000,\n",
      "         1.0000, 1.0000, 1.0000, 1.0000, 1.0000, 1.0000, 1.0000, 1.0000, 1.0000,\n",
      "         1.0000, 1.0000, 1.0000, 1.0000, 1.0000, 1.0000, 1.0000, 1.0000, 1.0000,\n",
      "         1.0000, 1.0000, 1.0000, 1.0000, 1.0000, 1.0000, 1.0000, 1.0000, 1.0000,\n",
      "         1.0000, 1.0000, 1.0000, 1.0000, 1.0000, 1.0000, 1.0000, 1.0000, 1.0000,\n",
      "         1.0000, 1.0000, 1.0000, 1.0000, 1.0000, 1.0000, 1.0000, 1.0000, 1.0000,\n",
      "         1.0000, 1.0000, 1.0000, 1.0000, 1.0000, 1.0000, 1.0000, 1.0000, 1.0000,\n",
      "         1.0000, 1.0000, 1.0000, 1.0000, 1.0000, 1.0000, 1.0000, 1.0000, 1.0000,\n",
      "         1.0000, 1.0000, 1.0000, 1.0000, 1.0000, 1.0000, 1.0000, 1.0000, 1.0000,\n",
      "         1.0000, 1.0000, 1.0000, 1.0000, 1.0000, 1.0000, 1.0000, 1.0000, 1.0000,\n",
      "         1.0000, 1.0000, 1.0000, 1.0000, 1.0000, 1.0000, 1.0000, 1.0000, 1.0000,\n",
      "         1.0000, 1.0000, 1.0000, 1.0000, 1.0000, 1.0000, 1.0000, 1.0000, 1.0000,\n",
      "         1.0000, 1.0000, 1.0000, 1.0000, 1.0000, 1.0000, 1.0000, 1.0000, 1.0000,\n",
      "         1.0000, 1.0000, 1.0000, 1.0000, 1.0000, 1.0000, 1.0000, 1.0000, 1.0000,\n",
      "         1.0000, 1.0000, 1.0000, 1.0000, 1.0000, 1.0000, 1.0000, 1.0000, 1.0000,\n",
      "         1.0000, 1.0000, 1.0000, 1.0000, 1.0000, 1.0000, 1.0000, 1.0000, 1.0000,\n",
      "         1.0000, 1.0000, 1.0000, 1.0000, 1.0000, 1.0000, 1.0000, 1.0000, 1.0000,\n",
      "         1.0000, 1.0000, 1.0000, 1.0000, 1.0000, 1.0000, 1.0000, 1.0000, 1.0000,\n",
      "         1.0000, 1.0000, 1.0000, 1.0000, 1.0000, 1.0000, 1.0000, 1.0000, 1.0000,\n",
      "         1.0000, 1.0000, 1.0000, 1.0000],\n",
      "        [1.0000, 1.0000, 1.0000, 1.0000, 1.0000, 1.0000, 1.0000, 1.0000, 1.0000,\n",
      "         1.0000, 1.0000, 1.0000, 1.0000, 1.0000, 1.0000, 1.0000, 1.0000, 1.0000,\n",
      "         1.0000, 1.0000, 1.0000, 1.0000, 1.0000, 1.0000, 1.0000, 1.0000, 1.0000,\n",
      "         1.0000, 1.0000, 1.0000, 1.0000, 1.0000, 1.0000, 1.0000, 1.0000, 1.0000,\n",
      "         1.0000, 1.0000, 1.0000, 1.0000, 1.0000, 1.0000, 1.0000, 1.0000, 1.0000,\n",
      "         1.0000, 1.0000, 1.0000, 1.0000, 1.0000, 1.0000, 1.0000, 1.0000, 1.0000,\n",
      "         1.0000, 1.0000, 1.0000, 1.0000, 1.0000, 1.0000, 1.0000, 1.0000, 1.0000,\n",
      "         1.0000, 1.0000, 1.0000, 1.0000, 1.0000, 1.0000, 1.0000, 1.0000, 1.0000,\n",
      "         1.0000, 1.0000, 1.0000, 1.0000, 1.0000, 1.0000, 1.0000, 1.0000, 1.0000,\n",
      "         1.0000, 1.0000, 1.0000, 1.0000, 1.0000, 1.0000, 1.0000, 1.0000, 1.0000,\n",
      "         1.0000, 1.0000, 1.0000, 1.0000, 1.0000, 1.0000, 1.0000, 1.0000, 1.0000,\n",
      "         1.0000, 1.0000, 1.0000, 1.0000, 1.0000, 1.0000, 1.0000, 1.0000, 1.0000,\n",
      "         1.0000, 1.0000, 1.0000, 1.0000, 1.0000, 1.0000, 1.0000, 1.0000, 1.0000,\n",
      "         1.0000, 1.0000, 1.0000, 1.0000, 1.0000, 1.0000, 1.0000, 1.0000, 1.0000,\n",
      "         1.0000, 1.0000, 1.0000, 1.0000, 1.0000, 1.0000, 1.0000, 1.0000, 1.0000,\n",
      "         1.0000, 1.0000, 1.0000, 1.0000, 1.0000, 1.0000, 1.0000, 1.0000, 1.0000,\n",
      "         1.0000, 1.0000, 1.0000, 1.0000, 1.0000, 1.0000, 1.0000, 1.0000, 1.0000,\n",
      "         1.0000, 1.0000, 1.0000, 1.0000, 1.0000, 1.0000, 1.0000, 1.0000, 1.0000,\n",
      "         1.0000, 1.0000, 1.0000, 1.0000, 1.0000, 1.0000, 1.0000, 1.0000, 1.0000,\n",
      "         1.0000, 1.0000, 1.0000, 1.0000, 1.0000, 1.0000, 1.0000, 1.0000, 1.0000,\n",
      "         1.0000, 1.0000, 1.0000, 1.0000, 1.0000, 1.0000, 1.0000, 1.0000, 1.0000,\n",
      "         1.0000, 1.0000, 1.0000, 1.0000, 1.0000, 1.0000, 1.0000, 1.0000, 1.0000,\n",
      "         1.0000, 1.0000, 1.0000, 1.0000, 1.0000, 1.0000, 1.0000, 1.0000, 1.0000,\n",
      "         1.0000, 1.0000, 1.0000, 1.0000, 1.0000, 1.0000, 1.0000, 1.0000, 1.0000,\n",
      "         1.0000, 1.0000, 1.0000, 1.0000, 1.0000, 1.0000, 1.0000, 1.0000, 1.0000,\n",
      "         1.0000, 1.0000, 1.0000, 1.0000, 1.0000, 1.0000, 1.0000, 1.0000, 1.0000,\n",
      "         1.0000, 1.0000, 1.0000, 1.0000, 1.0000, 1.0000, 1.0000, 1.0000, 1.0000,\n",
      "         1.0000, 1.0000, 1.0000, 1.0000, 1.0000, 1.0000, 1.0000, 1.0000, 1.0000,\n",
      "         1.0000, 1.0000, 1.0000, 1.0000]], grad_fn=<SumBackward1>)\n",
      "tensor([[[-0.2877,  0.0818, -0.1417,  ..., -0.2383,  0.5410,  0.1441],\n",
      "         [-0.2878,  0.0816, -0.1424,  ..., -0.2363,  0.5472,  0.1482],\n",
      "         [-0.2974,  0.0839, -0.1478,  ..., -0.2395,  0.5424,  0.1449],\n",
      "         ...,\n",
      "         [-0.2930,  0.0831, -0.1472,  ..., -0.2459,  0.5443,  0.1450],\n",
      "         [-0.2880,  0.0818, -0.1414,  ..., -0.2511,  0.5371,  0.1452],\n",
      "         [-0.2961,  0.0840, -0.1466,  ..., -0.2415,  0.5439,  0.1443]],\n",
      "\n",
      "        [[-0.3036,  0.0836, -0.1530,  ..., -0.2379,  0.5562,  0.1582],\n",
      "         [-0.3035,  0.0770, -0.1584,  ..., -0.2360,  0.5516,  0.1548],\n",
      "         [-0.3049,  0.0771, -0.1591,  ..., -0.2421,  0.5494,  0.1556],\n",
      "         ...,\n",
      "         [-0.3019,  0.0837, -0.1558,  ..., -0.2429,  0.5538,  0.1582],\n",
      "         [-0.3079,  0.0833, -0.1507,  ..., -0.2435,  0.5612,  0.1592],\n",
      "         [-0.3047,  0.0824, -0.1566,  ..., -0.2408,  0.5552,  0.1583]]],\n",
      "       grad_fn=<AddBackward0>)\n"
     ]
    }
   ],
   "source": [
    "attention = Attention(768, 200)\n",
    "y = attention.forward(torch.rand(2, 256, 768))\n",
    "print(y)"
   ]
  },
  {
   "cell_type": "code",
   "execution_count": null,
   "metadata": {},
   "outputs": [],
   "source": [
    "class FeedForwardNetwork(nn.Module):\n",
    "    def init(self, input_dim, output_dim):\n",
    "        super().init()\n",
    "       \n",
    "        self.linear1 = nn.Linear(input_dim, output_dim)\n",
    "        self.linear2 = nn.Linear(output_dim, input_dim)\n",
    "        self.activate = nn.GELU()\n",
    "       \n",
    "    def forword(self, x):\n",
    "        x = self.linear1(x)\n",
    "        x = self.linear2(x)\n",
    "        return self.activate(x)"
   ]
  },
  {
   "cell_type": "code",
   "execution_count": null,
   "metadata": {},
   "outputs": [],
   "source": [
    "class TrasformerEncoder(nn.Module):\n",
    "    def init(self, input_dim, output_dim):\n",
    "        self.embedding = \"dummy\"\n",
    "        self.skdfhfsjhdfkh\n",
    "        self.asdakpdkpaksp"
   ]
  }
 ],
 "metadata": {
  "interpreter": {
   "hash": "f98b70d548b370f908ae182aafb4bbae42e40a0d654c77763a138ce7060b373f"
  },
  "kernelspec": {
   "display_name": "Python 3.9.6 64-bit ('transformer-pytorch-X2u6QD7W': pipenv)",
   "language": "python",
   "name": "python3"
  },
  "language_info": {
   "codemirror_mode": {
    "name": "ipython",
    "version": 3
   },
   "file_extension": ".py",
   "mimetype": "text/x-python",
   "name": "python",
   "nbconvert_exporter": "python",
   "pygments_lexer": "ipython3",
   "version": "3.9.6"
  },
  "orig_nbformat": 4
 },
 "nbformat": 4,
 "nbformat_minor": 2
}
